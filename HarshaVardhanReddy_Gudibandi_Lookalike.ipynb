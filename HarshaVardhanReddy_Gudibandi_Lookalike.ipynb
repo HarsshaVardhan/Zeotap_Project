{
 "cells": [
  {
   "cell_type": "code",
   "execution_count": 1,
   "id": "9d1a2bdb",
   "metadata": {},
   "outputs": [
    {
     "name": "stdout",
     "output_type": "stream",
     "text": [
      "  CustomerID        CustomerName         Region  SignupDate\n",
      "0      C0001    Lawrence Carroll  South America  2022-07-10\n",
      "1      C0002      Elizabeth Lutz           Asia  2022-02-13\n",
      "2      C0003      Michael Rivera  South America  2024-03-07\n",
      "3      C0004  Kathleen Rodriguez  South America  2022-10-09\n",
      "4      C0005         Laura Weber           Asia  2022-08-15\n",
      "  ProductID              ProductName     Category   Price\n",
      "0      P001     ActiveWear Biography        Books  169.30\n",
      "1      P002    ActiveWear Smartwatch  Electronics  346.30\n",
      "2      P003  ComfortLiving Biography        Books   44.12\n",
      "3      P004            BookWorld Rug   Home Decor   95.69\n",
      "4      P005          TechPro T-Shirt     Clothing  429.31\n",
      "  TransactionID CustomerID ProductID      TransactionDate  Quantity  \\\n",
      "0        T00001      C0199      P067  2024-08-25 12:38:23         1   \n",
      "1        T00112      C0146      P067  2024-05-27 22:23:54         1   \n",
      "2        T00166      C0127      P067  2024-04-25 07:38:55         1   \n",
      "3        T00272      C0087      P067  2024-03-26 22:55:37         2   \n",
      "4        T00363      C0070      P067  2024-03-21 15:10:10         3   \n",
      "\n",
      "   TotalValue   Price  \n",
      "0      300.68  300.68  \n",
      "1      300.68  300.68  \n",
      "2      300.68  300.68  \n",
      "3      601.36  300.68  \n",
      "4      902.04  300.68  \n",
      "  TransactionID CustomerID ProductID      TransactionDate  Quantity  \\\n",
      "0        T00001      C0199      P067  2024-08-25 12:38:23         1   \n",
      "1        T00112      C0146      P067  2024-05-27 22:23:54         1   \n",
      "2        T00166      C0127      P067  2024-04-25 07:38:55         1   \n",
      "3        T00272      C0087      P067  2024-03-26 22:55:37         2   \n",
      "4        T00363      C0070      P067  2024-03-21 15:10:10         3   \n",
      "\n",
      "   TotalValue  Price_x     CustomerName         Region  SignupDate  \\\n",
      "0      300.68   300.68   Andrea Jenkins         Europe  2022-12-03   \n",
      "1      300.68   300.68  Brittany Harvey           Asia  2024-09-04   \n",
      "2      300.68   300.68  Kathryn Stevens         Europe  2024-04-04   \n",
      "3      601.36   300.68  Travis Campbell  South America  2024-04-11   \n",
      "4      902.04   300.68    Timothy Perez         Europe  2022-03-15   \n",
      "\n",
      "                       ProductName     Category  Price_y  \n",
      "0  ComfortLiving Bluetooth Speaker  Electronics   300.68  \n",
      "1  ComfortLiving Bluetooth Speaker  Electronics   300.68  \n",
      "2  ComfortLiving Bluetooth Speaker  Electronics   300.68  \n",
      "3  ComfortLiving Bluetooth Speaker  Electronics   300.68  \n",
      "4  ComfortLiving Bluetooth Speaker  Electronics   300.68  \n"
     ]
    }
   ],
   "source": [
    "# Import required libraries\n",
    "import pandas as pd\n",
    "\n",
    "# Load the datasets\n",
    "customers = pd.read_csv('Customers.csv')\n",
    "products = pd.read_csv('Products.csv')\n",
    "transactions = pd.read_csv('Transactions.csv')\n",
    "\n",
    "# Check the data to ensure it is loaded correctly\n",
    "print(customers.head())\n",
    "print(products.head())\n",
    "print(transactions.head())\n",
    "\n",
    "# Merge datasets\n",
    "merged_data = transactions.merge(customers, on='CustomerID', how='left').merge(products, on='ProductID', how='left')\n",
    "\n",
    "# Check the merged data\n",
    "print(merged_data.head())\n"
   ]
  },
  {
   "cell_type": "code",
   "execution_count": 2,
   "id": "bcec7d39",
   "metadata": {},
   "outputs": [
    {
     "name": "stdout",
     "output_type": "stream",
     "text": [
      "  CustomerID  total_spending  avg_spending  purchase_frequency\n",
      "0      C0001         3354.52       670.904                   5\n",
      "1      C0002         1862.74       465.685                   4\n",
      "2      C0003         2725.38       681.345                   4\n",
      "3      C0004         5354.88       669.360                   8\n",
      "4      C0005         2034.24       678.080                   3\n",
      "Category      Books  Clothing  Electronics  Home Decor\n",
      "CustomerID                                            \n",
      "C0001        114.60      0.00      2827.30      412.62\n",
      "C0002          0.00   1025.46         0.00      837.28\n",
      "C0003          0.00    122.36      1385.20     1217.82\n",
      "C0004       1888.48      0.00      1355.74     2110.66\n",
      "C0005          0.00      0.00      1180.38      853.86\n"
     ]
    }
   ],
   "source": [
    "# Feature Engineering: Create a Customer Profile based on Transaction Data\n",
    "customer_profile = merged_data.groupby('CustomerID').agg(\n",
    "    total_spending=('TotalValue', 'sum'),\n",
    "    avg_spending=('TotalValue', 'mean'),\n",
    "    purchase_frequency=('TransactionID', 'count')\n",
    ").reset_index()\n",
    "\n",
    "# Create product category-wise spending profile for each customer\n",
    "category_spending = merged_data.groupby(['CustomerID', 'Category']).agg(\n",
    "    category_spending=('TotalValue', 'sum')\n",
    ").reset_index()\n",
    "\n",
    "# Pivot the data to create a user-item matrix for similarity calculations\n",
    "category_matrix = category_spending.pivot_table(index='CustomerID', columns='Category', values='category_spending', fill_value=0)\n",
    "\n",
    "# Check the customer profile and category matrix\n",
    "print(customer_profile.head())\n",
    "print(category_matrix.head())\n"
   ]
  },
  {
   "cell_type": "code",
   "execution_count": 3,
   "id": "1641adda",
   "metadata": {},
   "outputs": [
    {
     "name": "stdout",
     "output_type": "stream",
     "text": [
      "[[-0.84236036 -0.89978761  1.99532205 -0.43563089]\n",
      " [-0.95580154  0.20520014 -0.94466953  0.09959218]\n",
      " [-0.95580154 -0.7679382   0.49574229  0.57920832]\n",
      " [ 0.91358246 -0.89978761  0.46510806  1.7045052 ]\n",
      " [-0.95580154 -0.89978761  0.2827585   0.1204889 ]]\n"
     ]
    }
   ],
   "source": [
    "from sklearn.preprocessing import StandardScaler\n",
    "\n",
    "# Normalize the features (optional but often helps in similarity-based models)\n",
    "scaler = StandardScaler()\n",
    "category_matrix_scaled = scaler.fit_transform(category_matrix)\n",
    "\n",
    "# Check the normalized category matrix\n",
    "print(category_matrix_scaled[:5])\n",
    "\n"
   ]
  },
  {
   "cell_type": "code",
   "execution_count": 4,
   "id": "69aa7a6e",
   "metadata": {},
   "outputs": [
    {
     "name": "stdout",
     "output_type": "stream",
     "text": [
      "CustomerID     C0001     C0002     C0003     C0004     C0005     C0006  \\\n",
      "CustomerID                                                               \n",
      "C0001       1.000000 -0.402215  0.648350  0.043313  0.661203 -0.960708   \n",
      "C0002      -0.402215  1.000000  0.175482 -0.446094  0.257825  0.235584   \n",
      "C0003       0.648350  0.175482  1.000000  0.328565  0.932178 -0.734670   \n",
      "C0004       0.043313 -0.446094  0.328565  1.000000  0.092857 -0.005891   \n",
      "C0005       0.661203  0.257825  0.932178  0.092857  1.000000 -0.814067   \n",
      "\n",
      "CustomerID     C0007     C0008     C0009     C0010  ...     C0191     C0192  \\\n",
      "CustomerID                                          ...                       \n",
      "C0001       0.637812 -0.268011  0.171019 -0.381244  ... -0.059019  0.830892   \n",
      "C0002       0.166689  0.470266  0.588281  0.703980  ... -0.527737 -0.050379   \n",
      "C0003       0.996881  0.202597  0.198752 -0.372100  ... -0.448319  0.462407   \n",
      "C0004       0.347577  0.112209 -0.725347 -0.913367  ...  0.068221 -0.451726   \n",
      "C0005       0.945695 -0.065768  0.508871 -0.144782  ... -0.240979  0.657526   \n",
      "\n",
      "CustomerID     C0193     C0194     C0195     C0196     C0197     C0198  \\\n",
      "CustomerID                                                               \n",
      "C0001      -0.382490  0.576188 -0.030011 -0.719949  0.461473 -0.173126   \n",
      "C0002      -0.374197  0.036706  0.426021  0.311911  0.409603  0.762741   \n",
      "C0003      -0.605579  0.316061  0.610345 -0.146110  0.919496 -0.064460   \n",
      "C0004       0.104261 -0.379710  0.422922  0.433344  0.165504 -0.839495   \n",
      "C0005      -0.431373  0.220120  0.349060 -0.392847  0.967956  0.213940   \n",
      "\n",
      "CustomerID     C0199     C0200  \n",
      "CustomerID                      \n",
      "C0001       0.165667 -0.756913  \n",
      "C0002       0.522735  0.116516  \n",
      "C0003       0.840167 -0.867465  \n",
      "C0004       0.330655 -0.335804  \n",
      "C0005       0.817298 -0.918261  \n",
      "\n",
      "[5 rows x 199 columns]\n"
     ]
    }
   ],
   "source": [
    "from sklearn.metrics.pairwise import cosine_similarity\n",
    "\n",
    "# Calculate Cosine Similarity between customers\n",
    "similarity_matrix = cosine_similarity(category_matrix_scaled)\n",
    "\n",
    "# Convert similarity matrix to DataFrame for better readability\n",
    "similarity_df = pd.DataFrame(similarity_matrix, index=category_matrix.index, columns=category_matrix.index)\n",
    "\n",
    "# Check the similarity matrix\n",
    "print(similarity_df.head())\n"
   ]
  },
  {
   "cell_type": "code",
   "execution_count": 5,
   "id": "d98e45db",
   "metadata": {},
   "outputs": [
    {
     "name": "stdout",
     "output_type": "stream",
     "text": [
      "[('C0091', 0.9888478853919915), ('C0069', 0.984343969157011), ('C0184', 0.9785619388073008)]\n"
     ]
    }
   ],
   "source": [
    "# Recommendation: Top 3 Lookalikes for each customer\n",
    "lookalike_map = {}\n",
    "for cust_id in customers['CustomerID'][:20]:  # For customers C0001 - C0020\n",
    "    similar_customers = similarity_df[cust_id].sort_values(ascending=False).iloc[1:4]  # Exclude the customer itself\n",
    "    lookalike_map[cust_id] = list(zip(similar_customers.index, similar_customers.values))\n",
    "\n",
    "# Check the lookalike map for the first customer\n",
    "print(lookalike_map['C0001'])\n"
   ]
  },
  {
   "cell_type": "code",
   "execution_count": 6,
   "id": "d8980c6f",
   "metadata": {},
   "outputs": [
    {
     "name": "stdout",
     "output_type": "stream",
     "text": [
      "Lookalike model completed and saved as Lookalike.csv\n"
     ]
    }
   ],
   "source": [
    "# Convert the result to DataFrame and save to Lookalike.csv\n",
    "lookalike_df = pd.DataFrame([(cust_id, similar_customer, score) \n",
    "                             for cust_id, similar_customers in lookalike_map.items()\n",
    "                             for similar_customer, score in similar_customers],\n",
    "                            columns=['CustomerID', 'Lookalike_CustomerID', 'Similarity_Score'])\n",
    "\n",
    "# Save to CSV\n",
    "lookalike_df.to_csv('Lookalike.csv', index=False)\n",
    "\n",
    "print(\"Lookalike model completed and saved as Lookalike.csv\")\n",
    "\n"
   ]
  },
  {
   "cell_type": "code",
   "execution_count": null,
   "id": "911c119a",
   "metadata": {},
   "outputs": [],
   "source": []
  }
 ],
 "metadata": {
  "kernelspec": {
   "display_name": "Python 3 (ipykernel)",
   "language": "python",
   "name": "python3"
  },
  "language_info": {
   "codemirror_mode": {
    "name": "ipython",
    "version": 3
   },
   "file_extension": ".py",
   "mimetype": "text/x-python",
   "name": "python",
   "nbconvert_exporter": "python",
   "pygments_lexer": "ipython3",
   "version": "3.9.12"
  }
 },
 "nbformat": 4,
 "nbformat_minor": 5
}
